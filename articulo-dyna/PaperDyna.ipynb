{
  "nbformat": 4,
  "nbformat_minor": 0,
  "metadata": {
    "colab": {
      "provenance": []
    },
    "kernelspec": {
      "name": "python3",
      "display_name": "Python 3"
    },
    "language_info": {
      "name": "python"
    }
  },
  "cells": [
    {
      "cell_type": "markdown",
      "source": [
        "Abrimos el archivo y comprobamos que el conteo de \"0 F\" está bien hecho"
      ],
      "metadata": {
        "id": "LmnZVYuSbbbQ"
      }
    },
    {
      "cell_type": "code",
      "execution_count": null,
      "metadata": {
        "colab": {
          "base_uri": "https://localhost:8080/"
        },
        "id": "RResKNwlZdZN",
        "outputId": "976de6a2-d04c-46cd-852a-bd6c753be209"
      },
      "outputs": [
        {
          "output_type": "stream",
          "name": "stdout",
          "text": [
            "Calculations are correct\n"
          ]
        }
      ],
      "source": [
        "import csv\n",
        "\n",
        "# This function reads the csv file and verifies the calculations of columns 22 and 23.\n",
        "def verify_calculations(file_path):\n",
        "    with open(file_path, mode='r') as file:\n",
        "        reader = csv.reader(file, delimiter=';')\n",
        "        next(reader, None)  # Skip header row if there is one.\n",
        "        for row in reader:\n",
        "            #print (row)\n",
        "            # Count '0 F' values in columns 2-15 and 16-21\n",
        "            count_2_15 = row[1:15].count('0 F')\n",
        "            count_16_21 = row[15:21].count('0 F')\n",
        "\n",
        "            # Retrieve values from columns 22 and 23\n",
        "            column_22_value = int(row[21])\n",
        "            column_23_value = int(row[22])\n",
        "\n",
        "            # Check if calculations are correct\n",
        "            if count_2_15 != column_22_value or count_16_21 != column_23_value:\n",
        "                return False\n",
        "        return True\n",
        "\n",
        "# Example CSV file path\n",
        "csv_file_path = 'TablaAllHerrero.csv'\n",
        "\n",
        "# Verify calculations\n",
        "# Note: Replace the 'csv_file_path' with the actual path of the CSV file.\n",
        "is_correct = verify_calculations(csv_file_path)\n",
        "\n",
        "# Print result\n",
        "print(f\"Calculations are {'correct' if is_correct else 'incorrect'}\")\n",
        "\n"
      ]
    },
    {
      "cell_type": "markdown",
      "source": [
        "Hacemos la tabla con los porcentajes de valores \"O F\" etc..."
      ],
      "metadata": {
        "id": "s7ZhWeVZe-m4"
      }
    },
    {
      "cell_type": "code",
      "source": [
        "pip install openpyxl"
      ],
      "metadata": {
        "colab": {
          "base_uri": "https://localhost:8080/"
        },
        "id": "Z_aIvobWwNYz",
        "outputId": "6600be6c-b1c0-4699-fa8d-e3880c0ddf45"
      },
      "execution_count": null,
      "outputs": [
        {
          "output_type": "stream",
          "name": "stdout",
          "text": [
            "Requirement already satisfied: openpyxl in /usr/local/lib/python3.10/dist-packages (3.1.2)\n",
            "Requirement already satisfied: et-xmlfile in /usr/local/lib/python3.10/dist-packages (from openpyxl) (1.1.0)\n"
          ]
        }
      ]
    },
    {
      "cell_type": "code",
      "source": [
        "\n",
        "import pandas as pd\n",
        "from scipy.stats import chi2_contingency\n",
        "from scipy.stats import ttest_ind, mannwhitneyu\n",
        "import numpy as np\n",
        "import matplotlib.pyplot as plt\n",
        "\n",
        "def create_summary_table_and_total(file_path, output_excel_path):\n",
        "    # Load the CSV file into a DataFrame\n",
        "    df = pd.read_csv(file_path, delimiter=';')\n",
        "\n",
        "    # Get the original column names for columns 2 to 21\n",
        "    original_column_names = df.columns[1:21].tolist()\n",
        "\n",
        "    # Initialize the summary DataFrame\n",
        "    summary_df = pd.DataFrame()\n",
        "\n",
        "    # Iterate over the columns to populate the summary DataFrame\n",
        "    for col_name in original_column_names:\n",
        "        col_data = df[col_name]\n",
        "        counts = col_data.value_counts().reindex([\"0 F\", \"1 P\", \"- P\", \"0.5 P\"], fill_value=0)\n",
        "        counts_pri = df.loc[df.iloc[:, -1] == 'PRI', col_name].value_counts().reindex([\"0 F\", \"1 P\", \"- P\", \"0.5 P\"], fill_value=0)\n",
        "        counts_pub = df.loc[df.iloc[:, -1] == 'PUB', col_name].value_counts().reindex([\"0 F\", \"1 P\", \"- P\", \"0.5 P\"], fill_value=0)\n",
        "\n",
        "        summary_row = pd.Series([col_name] + counts.tolist() + counts_pri.tolist() + counts_pub.tolist(), index=[\"Column Name\", \"0 F\", \"1 P\", \"- P\", \"0.5 P\", \"0 F PRI\", \"1 P PRI\", \"- P PRI\", \"0.5 P PRI\", \"0 F PUB\", \"1 P PUB\", \"- P PUB\", \"0.5 P PUB\"])\n",
        "        summary_df = pd.concat([summary_df, summary_row.to_frame().T])\n",
        "\n",
        "    # Add a total row at the end using concat\n",
        "    total_row = summary_df.select_dtypes(include=['number']).sum()\n",
        "    total_row = summary_df.sum()\n",
        "    #print(summary_df.sum())\n",
        "    total_row['Column Name'] = \"Total\"\n",
        "    summary_df = pd.concat([summary_df, total_row.to_frame().T], ignore_index=True)\n",
        "\n",
        "    # Save the summary DataFrame to an Excel file\n",
        "    #summary_df.to_excel(output_excel_path, index=False)\n",
        "\n",
        "    return summary_df\n",
        "\n",
        "def insert_sum_rowA(df):\n",
        "    # Calculate the sum of the first 14 rows for each column, skipping the first column of titles\n",
        "    sum_data = df.iloc[:14, 1:].sum()\n",
        "    # Create a series with the sum data, setting the title column to some appropriate value like 'Sum'\n",
        "    sum_row = pd.Series(['Total A'] + sum_data.tolist(), index=df.columns)\n",
        "    # Insert the sum row into the original DataFrame at the 15th position (index 14)\n",
        "    df = pd.concat([df.iloc[:14], pd.DataFrame([sum_row]), df.iloc[14:]]).reset_index(drop=True)\n",
        "    return df\n",
        "\n",
        "def insert_sum_rowAA(df):\n",
        "    sum_data = df.iloc[15:21, 1:].sum()\n",
        "    sum_row = pd.Series(['Total AA'] + sum_data.tolist(), index=df.columns)\n",
        "    # Insert the sum row into the original DataFrame at the 15th position (index 14)\n",
        "    df = pd.concat([df.iloc[:21], pd.DataFrame([sum_row]), df.iloc[21:]]).reset_index(drop=True)\n",
        "    return df\n",
        "\n",
        "def create_percentage_df(df):\n",
        "    # Copy the title column as is\n",
        "    percentage_df = pd.DataFrame(df.iloc[:, 0])\n",
        "\n",
        "    # Process the groups of four columns\n",
        "    for i in range(1, df.shape[1] - 2, 4):  # Adjusting the range to exclude the last three columns\n",
        "        # Select the group of four columns\n",
        "        cols = df.iloc[:, i:i+4]\n",
        "        # Calculate the sum across the four columns for each row\n",
        "        sums = cols.sum(axis=1)\n",
        "        # Calculate the percentage\n",
        "        percentages = cols.divide(sums, axis=0) * 100\n",
        "        # Append the percentages to the main DataFrame\n",
        "        percentage_df = pd.concat([percentage_df, percentages], axis=1)\n",
        "\n",
        "    # Append the last three columns as is, if needed\n",
        "    # percentage_df = pd.concat([percentage_df, df.iloc[:, -3:]], axis=1)\n",
        "\n",
        "    return percentage_df\n",
        "\n",
        "def remove_zero_columns(contingency_table):\n",
        "    # Convert the contingency table to a DataFrame for easier manipulation\n",
        "    contingency_df = pd.DataFrame(contingency_table)\n",
        "\n",
        "    # Drop columns where all values are zero\n",
        "    contingency_df = contingency_df.loc[:, (contingency_df != 0).any(axis=0)]\n",
        "\n",
        "    # Convert back to a list of lists (contingency table format) if necessary\n",
        "    new_contingency_table = contingency_df.values.tolist()\n",
        "\n",
        "    return new_contingency_table\n",
        "\n",
        "def chi_square_test_on_row(df, row_label):\n",
        "    # Find the row with the label 'Total A'\n",
        "    total_a_row = df[df.iloc[:, 0] == row_label]\n",
        "\n",
        "    # If the row is not found, return None\n",
        "    if total_a_row.empty:\n",
        "        return None\n",
        "\n",
        "    # Extract the values for columns 5-8 and 9-12\n",
        "    values_5_8 = total_a_row.iloc[:, 5:9].values.flatten()\n",
        "    values_9_12 = total_a_row.iloc[:, 9:13].values.flatten()\n",
        "\n",
        "    print(values_5_8)\n",
        "    print(values_9_12)\n",
        "    # Create a contingency table\n",
        "    contingency_table = [values_5_8, values_9_12]\n",
        "    contingency_table=remove_zero_columns(contingency_table)\n",
        "    print (contingency_table)\n",
        "    # Perform the chi-square test\n",
        "    chi2, p, dof, expected = chi2_contingency(contingency_table)\n",
        "\n",
        "    # Return the p-value to check for significance\n",
        "    return p\n",
        "\n",
        "\n",
        "# Assuming 'df' is your DataFrame\n",
        "def check_group_differences(df, columna):\n",
        "    # Separate the scores for PRI and PUB\n",
        "    pri_scores = df[df['Tipo'] == 'PRI'][columna]\n",
        "    pub_scores = df[df['Tipo'] == 'PUB'][columna]\n",
        "\n",
        "    # Check for equal variances\n",
        "    equal_var = False if (np.var(pri_scores) / np.var(pub_scores)) > 2 else True\n",
        "\n",
        "    # Perform a t-test\n",
        "    t_stat, p_ttest = ttest_ind(pri_scores, pub_scores, equal_var=equal_var)\n",
        "\n",
        "    # Perform a Mann-Whitney U test\n",
        "    u_stat, p_mannwhitney = mannwhitneyu(pri_scores, pub_scores)\n",
        "\n",
        "    # Return both p-values\n",
        "    return p_ttest, p_mannwhitney\n",
        "\n",
        "def plot_boxplot(df, columna):\n",
        "    plt.figure(figsize=(10, 6))\n",
        "    df.boxplot(column=columna, by='Tipo', grid=False)\n",
        "    plt.title('Boxplot of '+columna+' by Tipo')\n",
        "    plt.suptitle('')  # Suppress the default title\n",
        "    plt.xlabel('Tipo')\n",
        "    plt.ylabel(columna)\n",
        "    plt.show()\n",
        "\n",
        "    # Calculate and print the statistics for 'Puntuación Media' for each 'Tipo'\n",
        "    stats_pri = df[df['Tipo'] == 'PRI'][columna].describe()\n",
        "    stats_pub = df[df['Tipo'] == 'PUB'][columna].describe()\n",
        "\n",
        "    print(\"Statistics for '\"+columna+\"' for 'PRI':\")\n",
        "    print(stats_pri)\n",
        "    print(\"\\nStatistics for '\"+columna+\"' for 'PUB':\")\n",
        "    print(stats_pub)\n",
        "\n",
        "\n",
        "# Example CSV file path and Excel output path\n",
        "csv_file_path = 'TablaAllHerrero.csv'\n",
        "output_excel_path = 'tabla1.xlsx'\n",
        "output_excel_path_perc = 'tablaPerc1.xlsx'\n",
        "summary_table_with_total = create_summary_table_and_total(csv_file_path, output_excel_path)\n",
        "# Añade los totales para A y para AA\n",
        "summary_table_with_total=insert_sum_rowA(summary_table_with_total)\n",
        "summary_table_with_total=insert_sum_rowAA(summary_table_with_total)\n",
        "summary_table_with_total.to_excel(output_excel_path)\n",
        "summary_table_with_total_perc = create_percentage_df(summary_table_with_total)\n",
        "summary_table_with_total_perc.to_excel(output_excel_path_perc)\n",
        "\n",
        "#Extrae la fila ton Total A y con Total AA para PUB y para PRI\n",
        "print (\"Test de diferencias significativas entre porcentajes de valores:\")\n",
        "p_value = chi_square_test_on_row(summary_table_with_total, 'Total A')\n",
        "print (\"P-value A\", p_value)\n",
        "p_value = chi_square_test_on_row(summary_table_with_total, 'Total AA')\n",
        "print (\"P-value AA\", p_value)\n",
        "# You can now compare the p-value against your significance level to draw conclusions.\n",
        "\n",
        "# Diferencias de las calificaciones\n",
        "df = pd.read_csv(csv_file_path, delimiter=';')\n",
        "p_ttest, p_mannwhitney = check_group_differences(df,'Puntuación Media')\n",
        "print( \"Puntuaciones\",p_ttest, p_mannwhitney)\n",
        "p_ttest, p_mannwhitney = check_group_differences(df,'Fallos Nivel A')\n",
        "print( \"Fallos Nivel A\",p_ttest, p_mannwhitney)\n",
        "p_ttest, p_mannwhitney = check_group_differences(df,'Fallos Nivel AA')\n",
        "print( \"Fallos Nivel AA\", p_ttest, p_mannwhitney)\n",
        "\n",
        "plot_boxplot(df,'Puntuación Media')\n",
        "plot_boxplot(df,'Fallos Nivel A')\n",
        "plot_boxplot(df,'Fallos Nivel AA')\n",
        "\n",
        "\n",
        "\n",
        "\n",
        "\n",
        "\n"
      ],
      "metadata": {
        "colab": {
          "base_uri": "https://localhost:8080/",
          "height": 1000
        },
        "id": "OjosNkkDfV6d",
        "outputId": "fe0ad7d8-3a9c-4bda-fc6d-0c8afa9ec589"
      },
      "execution_count": null,
      "outputs": [
        {
          "output_type": "stream",
          "name": "stdout",
          "text": [
            "Test de diferencias significativas entre porcentajes de valores:\n",
            "[427 376 91 2]\n",
            "[268 552 73 3]\n",
            "[[427, 376, 91, 2], [268, 552, 73, 3]]\n",
            "P-value A 1.6474497478904777e-15\n",
            "[195 189 0 0]\n",
            "[119 264 1 0]\n",
            "[[195, 189, 0], [119, 264, 1]]\n",
            "P-value AA 1.2361901004174456e-07\n",
            "Puntuaciones 3.3495190540849866e-13 4.3731467608708145e-11\n",
            "Fallos Nivel A 8.23694384443487e-09 8.402930714237264e-08\n",
            "Fallos Nivel AA 3.5649866462600885e-10 4.631783580713926e-09\n"
          ]
        },
        {
          "output_type": "display_data",
          "data": {
            "text/plain": [
              "<Figure size 1000x600 with 0 Axes>"
            ]
          },
          "metadata": {}
        },
        {
          "output_type": "display_data",
          "data": {
            "text/plain": [
              "<Figure size 640x480 with 1 Axes>"
            ],
            "image/png": "[encoded data removed]"
          },
          "metadata": {}
        },
        {
          "output_type": "stream",
          "name": "stdout",
          "text": [
            "Statistics for 'Puntuación Media' for 'PRI':\n",
            "count    64.000000\n",
            "mean      4.767188\n",
            "std       1.223974\n",
            "min       2.600000\n",
            "25%       4.075000\n",
            "50%       4.700000\n",
            "75%       5.800000\n",
            "max       7.800000\n",
            "Name: Puntuación Media, dtype: float64\n",
            "\n",
            "Statistics for 'Puntuación Media' for 'PUB':\n",
            "count    64.000000\n",
            "mean      6.757812\n",
            "std       1.527609\n",
            "min       3.200000\n",
            "25%       5.450000\n",
            "50%       6.900000\n",
            "75%       7.900000\n",
            "max       9.000000\n",
            "Name: Puntuación Media, dtype: float64\n"
          ]
        },
        {
          "output_type": "display_data",
          "data": {
            "text/plain": [
              "<Figure size 1000x600 with 0 Axes>"
            ]
          },
          "metadata": {}
        },
        {
          "output_type": "display_data",
          "data": {
            "text/plain": [
              "<Figure size 640x480 with 1 Axes>"
            ],
            "image/png": "[encoded data removed]"
          },
          "metadata": {}
        },
        {
          "output_type": "stream",
          "name": "stdout",
          "text": [
            "Statistics for 'Fallos Nivel A' for 'PRI':\n",
            "count    64.000000\n",
            "mean      6.671875\n",
            "std       2.123599\n",
            "min       2.000000\n",
            "25%       5.750000\n",
            "50%       7.000000\n",
            "75%       8.000000\n",
            "max      11.000000\n",
            "Name: Fallos Nivel A, dtype: float64\n",
            "\n",
            "Statistics for 'Fallos Nivel A' for 'PUB':\n",
            "count    64.000000\n",
            "mean      4.187500\n",
            "std       2.416051\n",
            "min       1.000000\n",
            "25%       2.000000\n",
            "50%       4.000000\n",
            "75%       6.000000\n",
            "max       9.000000\n",
            "Name: Fallos Nivel A, dtype: float64\n"
          ]
        },
        {
          "output_type": "display_data",
          "data": {
            "text/plain": [
              "<Figure size 1000x600 with 0 Axes>"
            ]
          },
          "metadata": {}
        },
        {
          "output_type": "display_data",
          "data": {
            "text/plain": [
              "<Figure size 640x480 with 1 Axes>"
            ],
            "image/png": "[encoded data removed]"
          },
          "metadata": {}
        },
        {
          "output_type": "stream",
          "name": "stdout",
          "text": [
            "Statistics for 'Fallos Nivel AA' for 'PRI':\n",
            "count    64.000000\n",
            "mean      3.046875\n",
            "std       1.075406\n",
            "min       1.000000\n",
            "25%       2.000000\n",
            "50%       3.000000\n",
            "75%       4.000000\n",
            "max       6.000000\n",
            "Name: Fallos Nivel AA, dtype: float64\n",
            "\n",
            "Statistics for 'Fallos Nivel AA' for 'PUB':\n",
            "count    64.000000\n",
            "mean      1.859375\n",
            "std       0.888501\n",
            "min       1.000000\n",
            "25%       1.000000\n",
            "50%       2.000000\n",
            "75%       3.000000\n",
            "max       4.000000\n",
            "Name: Fallos Nivel AA, dtype: float64\n"
          ]
        }
      ]
    }
  ]
}